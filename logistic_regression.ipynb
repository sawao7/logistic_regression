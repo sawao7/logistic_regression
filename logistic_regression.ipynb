{
  "nbformat": 4,
  "nbformat_minor": 0,
  "metadata": {
    "colab": {
      "name": "logistic_regression.ipynb",
      "provenance": [],
      "authorship_tag": "ABX9TyPtzxq4J99j9XY9D5fTBfmr",
      "include_colab_link": true
    },
    "kernelspec": {
      "name": "python3",
      "display_name": "Python 3"
    },
    "language_info": {
      "name": "python"
    }
  },
  "cells": [
    {
      "cell_type": "markdown",
      "metadata": {
        "id": "view-in-github",
        "colab_type": "text"
      },
      "source": [
        "<a href=\"https://colab.research.google.com/github/sawao7/logistic_regression/blob/main/logistic_regression.ipynb\" target=\"_parent\"><img src=\"https://colab.research.google.com/assets/colab-badge.svg\" alt=\"Open In Colab\"/></a>"
      ]
    },
    {
      "cell_type": "code",
      "execution_count": 3,
      "metadata": {
        "colab": {
          "base_uri": "https://localhost:8080/"
        },
        "id": "V0gKyldmz7Gp",
        "outputId": "91463757-a87e-40fa-ac77-0e85d8a80c75"
      },
      "outputs": [
        {
          "output_type": "stream",
          "name": "stdout",
          "text": [
            "['3 1 4', '3 4 1', '2 2 2', '4 3 3']\n"
          ]
        }
      ],
      "source": [
        "li = ['3 1 4', '3 4 1', '2 2 2', '4 3 3']\n",
        "print(li)"
      ]
    },
    {
      "cell_type": "code",
      "source": [
        "w = 7"
      ],
      "metadata": {
        "id": "9veIfegg0rFY"
      },
      "execution_count": 4,
      "outputs": []
    },
    {
      "cell_type": "code",
      "source": [
        "import numpy as np\n",
        "# line = \"6 5 5 5 6 5 6 6 5 6\"\n",
        "line = \"87 98 48 58 59 97 43 100 96 73\"\n",
        "line = \"73 78 91 78 27 92 79 93 85 89\"\n",
        "nums = list(map(int, line.split()))\n",
        "print(nums)\n",
        "# array = np.ndarray(nums)"
      ],
      "metadata": {
        "colab": {
          "base_uri": "https://localhost:8080/"
        },
        "id": "vnNml0nJ03Zz",
        "outputId": "55bd1ade-1bfd-4431-b309-7088aa157ead"
      },
      "execution_count": 27,
      "outputs": [
        {
          "output_type": "stream",
          "name": "stdout",
          "text": [
            "[73, 78, 91, 78, 27, 92, 79, 93, 85, 89]\n"
          ]
        }
      ]
    },
    {
      "cell_type": "code",
      "source": [
        "num = np.array(nums)\n",
        "num"
      ],
      "metadata": {
        "colab": {
          "base_uri": "https://localhost:8080/"
        },
        "id": "VOFgI27dRazQ",
        "outputId": "0ffd22f5-2c80-4482-e041-01530c5c1be0"
      },
      "execution_count": 28,
      "outputs": [
        {
          "output_type": "execute_result",
          "data": {
            "text/plain": [
              "array([73, 78, 91, 78, 27, 92, 79, 93, 85, 89])"
            ]
          },
          "metadata": {},
          "execution_count": 28
        }
      ]
    },
    {
      "cell_type": "code",
      "source": [
        "np.var(num)"
      ],
      "metadata": {
        "colab": {
          "base_uri": "https://localhost:8080/"
        },
        "id": "T28TVq4rRqzs",
        "outputId": "49871e6c-3ffd-4239-b31c-3b600e13ad19"
      },
      "execution_count": 29,
      "outputs": [
        {
          "output_type": "execute_result",
          "data": {
            "text/plain": [
              "338.45"
            ]
          },
          "metadata": {},
          "execution_count": 29
        }
      ]
    },
    {
      "cell_type": "code",
      "source": [
        "df = [\n",
        "      [\"6 5 5 5 6 5 6 6 5 6\",4],\n",
        "      [\"2 5 1 3 3 6 6 6 5 5\",1 ],\n",
        "      [\"98 89 96 93 59 18 93 92 81 87\", 3],\n",
        "      [\"96 57 52 83 80 50 44 92 82 94\", 3],\n",
        "      [\"38 51 89 29 86 89 88 51 89 48\", 2],\n",
        "      [\"78 98 86 94 63 72 92 95 89 87\", 5],\n",
        "      [\"82 81 81 96 90 95 97 83 70 74\", 5],\n",
        "      [\"69 92 78 66 84 94 100 71 83 79\", 5],\n",
        "      [\"99 67 94 87 82 83 92 77 74 91\", 4],\n",
        "      [\"53 91 87 50 78 60 75 86 100 95\", 4],\n",
        "      [\"48 92 97 100 84 28 87 82 50 70\", 2],\n",
        "      [\"80 69 80 88 68 83 86 89 71 66\", 4],\n",
        "      [\"61 77 59 49 28 98 43 76 44 88\", 3],\n",
        "      [\"53 83 62 99 98 94 96 92 83 95\", 3],\n",
        "      [\"44 30 53 8 9 50 94 11 60 10\", 1],\n",
        "      [\"95 82 92 99 80 91 96 89 82 95\", 4],\n",
        "      [\"79 80 96 83 95 47 83 54 70 94\", 3],\n",
        "      [\"82 67 96 62 97 80 54 31 97 58\", 3],\n",
        "      [\"91 87 96 91 42 43 70 97 100 86\", 3],\n",
        "      [\"80 92 93 94 91 83 97 91 88 83\", 5],\n",
        "      [\"98 97 58 67 24 100 97 76 98 47\", 2],\n",
        "      [\"86 72 95 76 89 93 69 88 72 99\", 5],\n",
        "      [\"99 87 85 91 71 92 62 94 95 72\", 4],\n",
        "      [\"61 26 98 79 80 74 93 100 68 81\", 4],\n",
        "      [\"100 86 84 90 81 90 56 96 83 99\", 5],\n",
        "      [\"90 14 81 57 72 57 49 53 60 84\", 2],\n",
        "      [\"80 99 70 91 66 58 100 79 79 90\", 4],\n",
        "      [\"62 83 77 83 91 75 94 98 85 79\", 4],\n",
        "      [\"89 70 87 98 94 88 64 83 78 95\", 5],\n",
        "      [\"66 73 78 100 90 98 83 96 55 99\", 3],\n",
        "      [\"60 45 83 61 79 56 49 75 36 6\", 1],\n",
        "      [\"71 74 87 9 81 74 94 82 72 5\", 1],\n",
        "]"
      ],
      "metadata": {
        "id": "Mb0k0hPGR6Od"
      },
      "execution_count": 30,
      "outputs": []
    },
    {
      "cell_type": "code",
      "source": [
        "import pandas as pd\n",
        "data = pd.DataFrame(df, columns=[\"input\",\"output\"])"
      ],
      "metadata": {
        "id": "sqLNXhb-UsfE"
      },
      "execution_count": 35,
      "outputs": []
    },
    {
      "cell_type": "code",
      "source": [
        "data[\"ndarray\"] = data[\"input\"].str.split().apply(lambda x: list(map(int, x))).apply(lambda x: np.array(x))"
      ],
      "metadata": {
        "id": "HvTVGemSUtyK"
      },
      "execution_count": 46,
      "outputs": []
    },
    {
      "cell_type": "code",
      "source": [
        "data[\"var\"] = data[\"ndarray\"].apply(lambda x: np.var(x))\n",
        "data[\"mean\"] = data[\"ndarray\"].apply(lambda x: np.mean(x))\n",
        "data[\"std\"] = data[\"ndarray\"].apply(lambda x: np.std(x))\n",
        "data[\"sum\"] = data[\"ndarray\"].apply(lambda x: np.sum(x))\n",
        "data[\"test\"] = data[\"var\"] / data[\"sum\"]"
      ],
      "metadata": {
        "id": "Hi6JLhW-U_Bl"
      },
      "execution_count": 63,
      "outputs": []
    },
    {
      "cell_type": "code",
      "source": [
        "data.corr()"
      ],
      "metadata": {
        "colab": {
          "base_uri": "https://localhost:8080/",
          "height": 237
        },
        "id": "UDa9_9E_Vkj9",
        "outputId": "bf72e39f-7a96-4bc4-816a-c826b7f730b6"
      },
      "execution_count": 64,
      "outputs": [
        {
          "output_type": "execute_result",
          "data": {
            "text/plain": [
              "          output       var      mean       std      test       sum\n",
              "output  1.000000 -0.721104  0.540610 -0.624289 -0.741744  0.540610\n",
              "var    -0.721104  1.000000 -0.107955  0.967045  0.926697 -0.107955\n",
              "mean    0.540610 -0.107955  1.000000  0.079396 -0.265455  1.000000\n",
              "std    -0.624289  0.967045  0.079396  1.000000  0.866230  0.079396\n",
              "test   -0.741744  0.926697 -0.265455  0.866230  1.000000 -0.265455\n",
              "sum     0.540610 -0.107955  1.000000  0.079396 -0.265455  1.000000"
            ],
            "text/html": [
              "\n",
              "  <div id=\"df-da0bbc18-62c6-4bb3-93f6-7232e522e85d\">\n",
              "    <div class=\"colab-df-container\">\n",
              "      <div>\n",
              "<style scoped>\n",
              "    .dataframe tbody tr th:only-of-type {\n",
              "        vertical-align: middle;\n",
              "    }\n",
              "\n",
              "    .dataframe tbody tr th {\n",
              "        vertical-align: top;\n",
              "    }\n",
              "\n",
              "    .dataframe thead th {\n",
              "        text-align: right;\n",
              "    }\n",
              "</style>\n",
              "<table border=\"1\" class=\"dataframe\">\n",
              "  <thead>\n",
              "    <tr style=\"text-align: right;\">\n",
              "      <th></th>\n",
              "      <th>output</th>\n",
              "      <th>var</th>\n",
              "      <th>mean</th>\n",
              "      <th>std</th>\n",
              "      <th>test</th>\n",
              "      <th>sum</th>\n",
              "    </tr>\n",
              "  </thead>\n",
              "  <tbody>\n",
              "    <tr>\n",
              "      <th>output</th>\n",
              "      <td>1.000000</td>\n",
              "      <td>-0.721104</td>\n",
              "      <td>0.540610</td>\n",
              "      <td>-0.624289</td>\n",
              "      <td>-0.741744</td>\n",
              "      <td>0.540610</td>\n",
              "    </tr>\n",
              "    <tr>\n",
              "      <th>var</th>\n",
              "      <td>-0.721104</td>\n",
              "      <td>1.000000</td>\n",
              "      <td>-0.107955</td>\n",
              "      <td>0.967045</td>\n",
              "      <td>0.926697</td>\n",
              "      <td>-0.107955</td>\n",
              "    </tr>\n",
              "    <tr>\n",
              "      <th>mean</th>\n",
              "      <td>0.540610</td>\n",
              "      <td>-0.107955</td>\n",
              "      <td>1.000000</td>\n",
              "      <td>0.079396</td>\n",
              "      <td>-0.265455</td>\n",
              "      <td>1.000000</td>\n",
              "    </tr>\n",
              "    <tr>\n",
              "      <th>std</th>\n",
              "      <td>-0.624289</td>\n",
              "      <td>0.967045</td>\n",
              "      <td>0.079396</td>\n",
              "      <td>1.000000</td>\n",
              "      <td>0.866230</td>\n",
              "      <td>0.079396</td>\n",
              "    </tr>\n",
              "    <tr>\n",
              "      <th>test</th>\n",
              "      <td>-0.741744</td>\n",
              "      <td>0.926697</td>\n",
              "      <td>-0.265455</td>\n",
              "      <td>0.866230</td>\n",
              "      <td>1.000000</td>\n",
              "      <td>-0.265455</td>\n",
              "    </tr>\n",
              "    <tr>\n",
              "      <th>sum</th>\n",
              "      <td>0.540610</td>\n",
              "      <td>-0.107955</td>\n",
              "      <td>1.000000</td>\n",
              "      <td>0.079396</td>\n",
              "      <td>-0.265455</td>\n",
              "      <td>1.000000</td>\n",
              "    </tr>\n",
              "  </tbody>\n",
              "</table>\n",
              "</div>\n",
              "      <button class=\"colab-df-convert\" onclick=\"convertToInteractive('df-da0bbc18-62c6-4bb3-93f6-7232e522e85d')\"\n",
              "              title=\"Convert this dataframe to an interactive table.\"\n",
              "              style=\"display:none;\">\n",
              "        \n",
              "  <svg xmlns=\"http://www.w3.org/2000/svg\" height=\"24px\"viewBox=\"0 0 24 24\"\n",
              "       width=\"24px\">\n",
              "    <path d=\"M0 0h24v24H0V0z\" fill=\"none\"/>\n",
              "    <path d=\"M18.56 5.44l.94 2.06.94-2.06 2.06-.94-2.06-.94-.94-2.06-.94 2.06-2.06.94zm-11 1L8.5 8.5l.94-2.06 2.06-.94-2.06-.94L8.5 2.5l-.94 2.06-2.06.94zm10 10l.94 2.06.94-2.06 2.06-.94-2.06-.94-.94-2.06-.94 2.06-2.06.94z\"/><path d=\"M17.41 7.96l-1.37-1.37c-.4-.4-.92-.59-1.43-.59-.52 0-1.04.2-1.43.59L10.3 9.45l-7.72 7.72c-.78.78-.78 2.05 0 2.83L4 21.41c.39.39.9.59 1.41.59.51 0 1.02-.2 1.41-.59l7.78-7.78 2.81-2.81c.8-.78.8-2.07 0-2.86zM5.41 20L4 18.59l7.72-7.72 1.47 1.35L5.41 20z\"/>\n",
              "  </svg>\n",
              "      </button>\n",
              "      \n",
              "  <style>\n",
              "    .colab-df-container {\n",
              "      display:flex;\n",
              "      flex-wrap:wrap;\n",
              "      gap: 12px;\n",
              "    }\n",
              "\n",
              "    .colab-df-convert {\n",
              "      background-color: #E8F0FE;\n",
              "      border: none;\n",
              "      border-radius: 50%;\n",
              "      cursor: pointer;\n",
              "      display: none;\n",
              "      fill: #1967D2;\n",
              "      height: 32px;\n",
              "      padding: 0 0 0 0;\n",
              "      width: 32px;\n",
              "    }\n",
              "\n",
              "    .colab-df-convert:hover {\n",
              "      background-color: #E2EBFA;\n",
              "      box-shadow: 0px 1px 2px rgba(60, 64, 67, 0.3), 0px 1px 3px 1px rgba(60, 64, 67, 0.15);\n",
              "      fill: #174EA6;\n",
              "    }\n",
              "\n",
              "    [theme=dark] .colab-df-convert {\n",
              "      background-color: #3B4455;\n",
              "      fill: #D2E3FC;\n",
              "    }\n",
              "\n",
              "    [theme=dark] .colab-df-convert:hover {\n",
              "      background-color: #434B5C;\n",
              "      box-shadow: 0px 1px 3px 1px rgba(0, 0, 0, 0.15);\n",
              "      filter: drop-shadow(0px 1px 2px rgba(0, 0, 0, 0.3));\n",
              "      fill: #FFFFFF;\n",
              "    }\n",
              "  </style>\n",
              "\n",
              "      <script>\n",
              "        const buttonEl =\n",
              "          document.querySelector('#df-da0bbc18-62c6-4bb3-93f6-7232e522e85d button.colab-df-convert');\n",
              "        buttonEl.style.display =\n",
              "          google.colab.kernel.accessAllowed ? 'block' : 'none';\n",
              "\n",
              "        async function convertToInteractive(key) {\n",
              "          const element = document.querySelector('#df-da0bbc18-62c6-4bb3-93f6-7232e522e85d');\n",
              "          const dataTable =\n",
              "            await google.colab.kernel.invokeFunction('convertToInteractive',\n",
              "                                                     [key], {});\n",
              "          if (!dataTable) return;\n",
              "\n",
              "          const docLinkHtml = 'Like what you see? Visit the ' +\n",
              "            '<a target=\"_blank\" href=https://colab.research.google.com/notebooks/data_table.ipynb>data table notebook</a>'\n",
              "            + ' to learn more about interactive tables.';\n",
              "          element.innerHTML = '';\n",
              "          dataTable['output_type'] = 'display_data';\n",
              "          await google.colab.output.renderOutput(dataTable, element);\n",
              "          const docLink = document.createElement('div');\n",
              "          docLink.innerHTML = docLinkHtml;\n",
              "          element.appendChild(docLink);\n",
              "        }\n",
              "      </script>\n",
              "    </div>\n",
              "  </div>\n",
              "  "
            ]
          },
          "metadata": {},
          "execution_count": 64
        }
      ]
    },
    {
      "cell_type": "code",
      "source": [
        "df_train = data[[\"mean\", \"var\"]]\n",
        "df_test = data[\"output\"]"
      ],
      "metadata": {
        "id": "nCg-v_iSVzV9"
      },
      "execution_count": 111,
      "outputs": []
    },
    {
      "cell_type": "code",
      "source": [
        "from sklearn.model_selection import train_test_split\n",
        "X_train, X_test, y_train, y_test = train_test_split(df_train, df_test, test_size=0.3, random_state=0, stratify=df_test)"
      ],
      "metadata": {
        "id": "PF-wtKrLWq44"
      },
      "execution_count": 112,
      "outputs": []
    },
    {
      "cell_type": "code",
      "source": [
        "from sklearn.linear_model import LogisticRegression\n",
        "\n",
        "clf = LogisticRegression()\n",
        "# 学習させる\n",
        "# clf.fit(X_train, y_train)\n",
        "clf.fit(df_train, df_test)\n",
        "\n",
        "\n",
        "# print('正解',y_test)\n",
        "# 学習したデータと比較して推測する\n",
        "print('推測した結果',clf.predict(df_train))\n",
        "print('推測した結果の正解率',clf.score(df_train,df_test))"
      ],
      "metadata": {
        "colab": {
          "base_uri": "https://localhost:8080/"
        },
        "id": "OxCEGUNxXOyK",
        "outputId": "63574904-602f-4454-e220-f58e5c54a5e7"
      },
      "execution_count": 135,
      "outputs": [
        {
          "output_type": "stream",
          "name": "stdout",
          "text": [
            "推測した結果 [4 1 3 3 2 5 5 4 5 3 2 4 2 3 1 5 4 3 3 5 2 5 4 3 5 2 4 4 5 4 1 1]\n",
            "推測した結果の正解率 0.75\n"
          ]
        },
        {
          "output_type": "stream",
          "name": "stderr",
          "text": [
            "/usr/local/lib/python3.7/dist-packages/sklearn/linear_model/_logistic.py:818: ConvergenceWarning: lbfgs failed to converge (status=1):\n",
            "STOP: TOTAL NO. of ITERATIONS REACHED LIMIT.\n",
            "\n",
            "Increase the number of iterations (max_iter) or scale the data as shown in:\n",
            "    https://scikit-learn.org/stable/modules/preprocessing.html\n",
            "Please also refer to the documentation for alternative solver options:\n",
            "    https://scikit-learn.org/stable/modules/linear_model.html#logistic-regression\n",
            "  extra_warning_msg=_LOGISTIC_SOLVER_CONVERGENCE_MSG,\n"
          ]
        }
      ]
    },
    {
      "cell_type": "code",
      "source": [
        "a = clf.coef_\n",
        "b = clf.intercept_ \n",
        "b"
      ],
      "metadata": {
        "colab": {
          "base_uri": "https://localhost:8080/"
        },
        "id": "ACejEncDaR2u",
        "outputId": "5c687078-8361-4b35-ad5b-06dc8934ff63"
      },
      "execution_count": 159,
      "outputs": [
        {
          "output_type": "execute_result",
          "data": {
            "text/plain": [
              "array([11.07960962, -2.89000856, -6.11182943,  4.96925065, -7.04702229])"
            ]
          },
          "metadata": {},
          "execution_count": 159
        }
      ]
    },
    {
      "cell_type": "code",
      "source": [
        "df_test"
      ],
      "metadata": {
        "colab": {
          "base_uri": "https://localhost:8080/"
        },
        "id": "2IIi_HYtf4-Z",
        "outputId": "b1f1ea07-f17e-4e8f-8c8c-e80ee39be69e"
      },
      "execution_count": 153,
      "outputs": [
        {
          "output_type": "execute_result",
          "data": {
            "text/plain": [
              "0     4\n",
              "1     1\n",
              "2     3\n",
              "3     3\n",
              "4     2\n",
              "5     5\n",
              "6     5\n",
              "7     5\n",
              "8     4\n",
              "9     4\n",
              "10    2\n",
              "11    4\n",
              "12    3\n",
              "13    3\n",
              "14    1\n",
              "15    4\n",
              "16    3\n",
              "17    3\n",
              "18    3\n",
              "19    5\n",
              "20    2\n",
              "21    5\n",
              "22    4\n",
              "23    4\n",
              "24    5\n",
              "25    2\n",
              "26    4\n",
              "27    4\n",
              "28    5\n",
              "29    3\n",
              "30    1\n",
              "31    1\n",
              "Name: output, dtype: int64"
            ]
          },
          "metadata": {},
          "execution_count": 153
        }
      ]
    },
    {
      "cell_type": "code",
      "source": [
        "import scipy\n",
        "for i in range(1):\n",
        "    print(df_train.values[i])\n",
        "    print(a.T)\n",
        "    # print(b)\n",
        "    print(np.matmul(np.array([5.5, 0.25]), a.T))\n",
        "    # print(np.matmul(df_train.values[i], a.T) + b)\n",
        "    # print(np.argmax(scipy.special.softmax(np.matmul(df_train.values[i], a.T) + b)) + 1 == df_test[i])\n",
        "np.__version__"
      ],
      "metadata": {
        "colab": {
          "base_uri": "https://localhost:8080/",
          "height": 104
        },
        "id": "mWPAMyfwX3XE",
        "outputId": "7ca08462-c9f4-4f9e-d23e-f4fc6199b18f"
      },
      "execution_count": 171,
      "outputs": [
        {
          "output_type": "stream",
          "name": "stdout",
          "text": [
            "[5.5  0.25]\n",
            "[[-1.0424503  -0.05253795  0.37297032  0.28475073  0.4372672 ]\n",
            " [ 0.11256625  0.02259688 -0.03190046 -0.04791604 -0.05534664]]\n",
            "[-5.70533509 -0.28330951  2.04336167  1.55415     2.39113293]\n"
          ]
        },
        {
          "output_type": "execute_result",
          "data": {
            "text/plain": [
              "'1.21.6'"
            ],
            "application/vnd.google.colaboratory.intrinsic+json": {
              "type": "string"
            }
          },
          "metadata": {},
          "execution_count": 171
        }
      ]
    }
  ]
}